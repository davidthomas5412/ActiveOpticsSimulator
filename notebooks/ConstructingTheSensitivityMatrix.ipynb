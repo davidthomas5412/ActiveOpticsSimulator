{
 "cells": [
  {
   "cell_type": "markdown",
   "metadata": {},
   "source": [
    "# Constructing the Sensitivity Matrix\n",
    "*David Thomas 2019/07/01*"
   ]
  },
  {
   "cell_type": "markdown",
   "metadata": {},
   "source": [
    "**Abstract:** We compute the sensitivity matrix which maps the optical state, represented with 20 degrees of freedom, to the annular zernike terms in the corresponding wavefront."
   ]
  },
  {
   "cell_type": "markdown",
   "metadata": {},
   "source": [
    "**Table of Contents:**\n",
    "- [Recovering Annular Zernike Coefficients](#Recovering-Annular-Zernike-Coefficients)\n",
    "- [Defining The Degrees Of Freedom](#Defining-The-Degrees-Of-Freedom)\n",
    "- [Defining The Optical Path Difference](#Defining-the-Optical-Path-Difference)\n",
    "- [Computing The Sensitivity Matrix For The Field Center](#Computing-The-Sensitivity-Matrix-For-The-Field-Center)"
   ]
  },
  {
   "cell_type": "markdown",
   "metadata": {},
   "source": [
    "## Recovering Annular Zernike Coefficients"
   ]
  },
  {
   "cell_type": "markdown",
   "metadata": {},
   "source": [
    "In this section we define and validate the function we will use to fit OPDs (optical path differences)."
   ]
  },
  {
   "cell_type": "code",
   "execution_count": 1,
   "metadata": {
    "collapsed": true
   },
   "outputs": [],
   "source": [
    "%matplotlib inline\n",
    "import matplotlib.pyplot as plt\n",
    "import numpy as np\n",
    "import os\n",
    "import batoid\n",
    "import yaml\n",
    "from batoid.utils import fieldToDirCos\n",
    "import galsim"
   ]
  },
  {
   "cell_type": "code",
   "execution_count": 2,
   "metadata": {},
   "outputs": [],
   "source": [
    "def fitOPD(opdArray, nZern=22, obscuration=0.61):\n",
    "    nx = opdArray.shape[0]\n",
    "    X, Y = np.meshgrid(np.linspace(-1, 1, nx), np.linspace(-1, 1, nx))\n",
    "    R = np.sqrt(X ** 2 + Y ** 2)\n",
    "    mask = np.logical_and(R <= 1, R >= obscuration)\n",
    "    basis = galsim.zernike.zernikeBasis(nZern, X[mask].flatten(), Y[mask].flatten(),\n",
    "                         R_inner=obscuration)\n",
    "    coefs, _, _, _ = np.linalg.lstsq(basis.T, opdArray[mask].flatten())\n",
    "    return coefs[1:]\n",
    "    \n",
    "def makeZernike(ind, nx=256, obscuration=0.61):\n",
    "    X, Y = np.meshgrid(np.linspace(-1, 1, nx), np.linspace(-1, 1, nx))\n",
    "    R = np.sqrt(X ** 2 + Y ** 2)\n",
    "    mask = np.logical_and(R <= 1, R >= obscuration)\n",
    "    zernikes = np.zeros(ind+1)\n",
    "    zernikes[ind] = 1\n",
    "    zern = galsim.zernike.Zernike(zernikes, R_inner=obscuration)\n",
    "    Z = zern.evalCartesian(X,Y)\n",
    "    Z[~mask] = np.nan\n",
    "    return Z, mask"
   ]
  },
  {
   "cell_type": "code",
   "execution_count": 3,
   "metadata": {},
   "outputs": [],
   "source": [
    "nx = 32\n",
    "obscuration = 0.61\n",
    "nZern = 22\n",
    "X, Y = np.meshgrid(np.linspace(-1, 1, nx), np.linspace(-1, 1, nx))\n",
    "R = np.sqrt(X ** 2 + Y ** 2)\n",
    "mask = np.logical_and(R <= 1, R >= obscuration)\n",
    "basis = galsim.zernike.zernikeBasis(nZern, X[mask].flatten(), Y[mask].flatten(),\n",
    "                     R_inner=obscuration)"
   ]
  },
  {
   "cell_type": "code",
   "execution_count": 4,
   "metadata": {},
   "outputs": [],
   "source": [
    "def testMakeZernike():\n",
    "    nZern = 22\n",
    "    orthonormal = np.zeros((nZern, nZern))\n",
    "    for i in range(nZern):\n",
    "        for j in range(nZern):\n",
    "            Zi, mask = makeZernike(i + 1)\n",
    "            Zj, _ = makeZernike(j + 1)\n",
    "            orthonormal[i,j] = np.sum(Zi[mask] * Zj[mask]) / np.sum(mask)\n",
    "    plt.figure()\n",
    "    plt.title('Orthonormal')\n",
    "    plt.imshow(orthonormal, origin='lower')\n",
    "    plt.colorbar()\n",
    "    \n",
    "    plt.figure()\n",
    "    plt.title('Orthonormal - Identity')\n",
    "    plt.imshow(orthonormal - np.eye(22), origin='lower')\n",
    "    plt.colorbar()\n",
    "    \n",
    "def testFitOPD():\n",
    "    nZern = 22\n",
    "    decomposition = np.zeros((nZern, nZern))\n",
    "    for i in range(nZern):\n",
    "        Zi, _ = makeZernike(i + 1)\n",
    "        decomposition[i,:] = fitOPD(Zi)\n",
    "\n",
    "    plt.figure()\n",
    "    plt.title('Decomposition')\n",
    "    plt.imshow(decomposition, origin='lower')\n",
    "    plt.colorbar()\n",
    "    \n",
    "    plt.figure()\n",
    "    plt.title('Decomposition - Identity')\n",
    "    plt.imshow(decomposition - np.eye(22), origin='lower')\n",
    "    plt.colorbar()"
   ]
  },
  {
   "cell_type": "markdown",
   "metadata": {},
   "source": [
    "Here we confirm the annular zernike polynomials we use are orthonormal."
   ]
  },
  {
   "cell_type": "code",
   "execution_count": 5,
   "metadata": {},
   "outputs": [
    {
     "data": {
      "image/png": "[encoded data removed]",
      "text/plain": [
       "<matplotlib.figure.Figure at 0x10f340dd8>"
      ]
     },
     "metadata": {},
     "output_type": "display_data"
    },
    {
     "data": {
      "image/png": "[encoded data removed]",
      "text/plain": [
       "<matplotlib.figure.Figure at 0x11869df60>"
      ]
     },
     "metadata": {},
     "output_type": "display_data"
    }
   ],
   "source": [
    "testMakeZernike()"
   ]
  },
  {
   "cell_type": "markdown",
   "metadata": {},
   "source": [
    "Here we confirm that we can decompose zernike images into their components."
   ]
  },
  {
   "cell_type": "code",
   "execution_count": 6,
   "metadata": {},
   "outputs": [
    {
     "data": {
      "image/png": "[encoded data removed]",
      "text/plain": [
       "<matplotlib.figure.Figure at 0x10f362d30>"
      ]
     },
     "metadata": {},
     "output_type": "display_data"
    },
    {
     "data": {
      "image/png": "[encoded data removed]",
      "text/plain": [
       "<matplotlib.figure.Figure at 0x10b647908>"
      ]
     },
     "metadata": {},
     "output_type": "display_data"
    }
   ],
   "source": [
    "testFitOPD()"
   ]
  },
  {
   "cell_type": "markdown",
   "metadata": {},
   "source": [
    "## Defining The Degrees Of Freedom"
   ]
  },
  {
   "cell_type": "markdown",
   "metadata": {},
   "source": [
    "We employ 20 degrees of freedom: 5 translations and rotations for each of the camera and M2, 5 M1M3 bending modes, and 5 M2 bending modes. We store the degrees of freedom and their corresponding batoid optical transformations in the DOF class below. The DOF.stepSize values are the size of the linear step we take to compute the sensitivity for the corresponding degree of freedom. These step sizes come from Bo Xin's original calculation."
   ]
  },
  {
   "cell_type": "code",
   "execution_count": 7,
   "metadata": {},
   "outputs": [],
   "source": [
    "from collections import OrderedDict\n",
    "\n",
    "class DOF:\n",
    "    arcsecondToRad = (1 / 3600) * (np.pi / 180)\n",
    "    \n",
    "    def __init__(self, nbend=20):\n",
    "        # not member variables because all this data gets stored in closures\n",
    "        m1m3_x = np.load('../data/M1M3_grid_x.npy')\n",
    "        m1m3_y = np.load('../data/M1M3_grid_y.npy')\n",
    "        m1m3_modes = np.load('../data/M1M3_bending_modes.npy')\n",
    "        m2_x = np.load('../data/M2_grid_x.npy')\n",
    "        m2_y = np.load('../data/M2_grid_y.npy')\n",
    "        m2_modes = np.load('../data/M2_bending_modes.npy')\n",
    "        \n",
    "        methods = OrderedDict()\n",
    "        # camera shifts\n",
    "        methods['camx'] = DOF.shift('LSST.LSSTCamera', np.array([1,0,0]))\n",
    "        methods['camy'] = DOF.shift('LSST.LSSTCamera', np.array([0,1,0]))\n",
    "        methods['camz'] = DOF.shift('LSST.LSSTCamera', np.array([0,0,1]))\n",
    "        # camera rotations\n",
    "        methods['camrx'] = DOF.rotate('LSST.LSSTCamera', batoid.RotX)\n",
    "        methods['camry'] = DOF.rotate('LSST.LSSTCamera', batoid.RotY)\n",
    "        # m2 shifts\n",
    "        methods['m2x'] = DOF.shift('LSST.M2', np.array([1,0,0]))\n",
    "        methods['m2y'] = DOF.shift('LSST.M2', np.array([0,1,0]))\n",
    "        methods['m2z'] = DOF.shift('LSST.M2', np.array([0,0,1]))\n",
    "        # m2 rotations\n",
    "        methods['m2rx'] = DOF.rotate('LSST.M2', batoid.RotX)\n",
    "        methods['m2ry'] = DOF.rotate('LSST.M2', batoid.RotY)\n",
    "        # m1m3 bending modes\n",
    "        for i in range(nbend):\n",
    "            methods['m1m3b{}'.format(i)] = DOF.m1m3Bending(m1m3_x, m1m3_y, m1m3_modes[i])\n",
    "        # m2 bending modes\n",
    "        for i in range(nbend):\n",
    "            methods['m2b{}'.format(i)] = DOF.m2Bending(m2_x, m2_y, m2_modes[i])\n",
    "\n",
    "        self.methods = methods\n",
    "        self.stepSize = {\n",
    "            'camx': 500e-6,\n",
    "            'camy': 500e-6,\n",
    "            'camz': 100e-6,\n",
    "            'camrx': 60 * DOF.arcsecondToRad,\n",
    "            'camry': 60 * DOF.arcsecondToRad,\n",
    "            'm2x': 500e-6,\n",
    "            'm2y': 500e-6,\n",
    "            'm2z': 100e-6,\n",
    "            'm2rx': 40 * DOF.arcsecondToRad,\n",
    "            'm2ry': 40 * DOF.arcsecondToRad,\n",
    "        }\n",
    "        for i in range(nbend):\n",
    "            self.stepSize['m1m3b{}'.format(i)] = 500e-9\n",
    "            self.stepSize['m2b{}'.format(i)] = 200e-9\n",
    "    \n",
    "    @staticmethod\n",
    "    def shift(name, direction):\n",
    "        def apply(telescope, scale):\n",
    "            return telescope.withGloballyShiftedOptic(name, direction * scale)\n",
    "        return apply\n",
    "    \n",
    "    @staticmethod\n",
    "    def rotate(name, rotFunc):\n",
    "        def apply(telescope, rad):\n",
    "            return telescope.withLocallyRotatedOptic(name, rotFunc(rad))\n",
    "        return apply\n",
    "    \n",
    "    @staticmethod\n",
    "    def m1m3Bending(x,y,mode):\n",
    "        def apply(telescope, scale):\n",
    "            zs = mode * scale\n",
    "            pert = batoid.Bicubic(x, y, zs)\n",
    "            m1surf = telescope.itemDict['LSST.M1'].surface\n",
    "            m3surf = telescope.itemDict['LSST.M3'].surface\n",
    "            telescope.itemDict['LSST.M1'].surface = batoid.Sum([m1surf, pert])\n",
    "            telescope.itemDict['LSST.M3'].surface = batoid.Sum([m3surf, pert])\n",
    "            return telescope\n",
    "        return apply\n",
    "    \n",
    "    @staticmethod\n",
    "    def m2Bending(x,y,mode):\n",
    "        def apply(telescope, scale):\n",
    "            zs = mode * scale\n",
    "            pert = batoid.Bicubic(x, y, zs)\n",
    "            m2surf = telescope.itemDict['LSST.M2'].surface\n",
    "            telescope.itemDict['LSST.M2'].surface = batoid.Sum([m2surf, pert])\n",
    "            return telescope\n",
    "        return apply"
   ]
  },
  {
   "cell_type": "markdown",
   "metadata": {},
   "source": [
    "## Defining The Optical Path Difference"
   ]
  },
  {
   "cell_type": "markdown",
   "metadata": {},
   "source": [
    "In this section we lay out the optical path difference (OPD) computation. This calculations makes a 256x256 grid of rays at the entrance pupil and measures the distance they travel to the exit pupil. The difference between these path differences and the path difference of the chief ray is the wavefront. We use the diction optical path difference (OPD) to refer to the true wavefront.\n",
    "\n",
    "Special thanks to Josh Meyers for providing this snippet."
   ]
  },
  {
   "cell_type": "code",
   "execution_count": 8,
   "metadata": {
    "collapsed": true
   },
   "outputs": [],
   "source": [
    "def opd(optic, theta_x=0, theta_y=0, wavelength=500e-9, nx=256, flux=1):\n",
    "    projection='zemax'\n",
    "    dirCos = fieldToDirCos(theta_x, theta_y, projection=projection)\n",
    "    rays = batoid.rayGrid(\n",
    "        optic.dist/dirCos[2], optic.pupilSize,\n",
    "        dirCos[0], dirCos[1], -dirCos[2],\n",
    "        nx, wavelength, flux, optic.inMedium, lattice=True)\n",
    "    \n",
    "    # chief ray index.  works if lattice=True and nx is even,\n",
    "    # or if lattice=False and nx is odd\n",
    "    cridx = (nx//2)*nx+nx//2\n",
    "    \n",
    "    optic.traceInPlace(rays, outCoordSys=batoid.globalCoordSys)\n",
    "    spherePoint = rays[cridx].r\n",
    "    \n",
    "    # We want to place the vertex of the reference sphere one radius length away from the\n",
    "    # intersection point.  So transform our rays into that coordinate system.\n",
    "    radius = np.hypot(optic.sphereRadius, np.hypot(spherePoint[0], spherePoint[1]))\n",
    "    transform = batoid.CoordTransform(\n",
    "            batoid.globalCoordSys, batoid.CoordSys(spherePoint+np.array([0,0,radius])))\n",
    "    transform.applyForwardInPlace(rays)\n",
    "\n",
    "    sphere = batoid.Sphere(-radius)\n",
    "    sphere.intersectInPlace(rays) \n",
    "    t0 = rays[cridx].t\n",
    "    arr = np.ma.masked_array(t0-rays.t, mask=rays.vignetted).reshape(nx, nx)\n",
    "\n",
    "    primitiveVectors = np.vstack([[optic.pupilSize/nx, 0], [0, optic.pupilSize/nx]])\n",
    "    return batoid.Lattice(arr, primitiveVectors)"
   ]
  },
  {
   "cell_type": "markdown",
   "metadata": {},
   "source": [
    "## Computing The Sensitivity Matrix For The Field Center"
   ]
  },
  {
   "cell_type": "markdown",
   "metadata": {},
   "source": [
    "We assume that small disturbances around the nominal optical state lead to a linear response in the wavefront. This is prescribed by the relation $y-y_0 = Ax$, where $y,y_0 \\in R^{22}$ are the wavefront and nominal wavefront; $A \\in R^{22,20}$ is the sensitivity matrix; and $x\\in R^{20}$ is the optical state."
   ]
  },
  {
   "cell_type": "code",
   "execution_count": 9,
   "metadata": {},
   "outputs": [],
   "source": [
    "def newTelescope():\n",
    "    LSST_g_fn = os.path.join(batoid.datadir, \"LSST\", \"LSST_g.yaml\")\n",
    "    config = yaml.safe_load(open(LSST_g_fn))\n",
    "    return batoid.parse.parse_optic(config['opticalSystem'])"
   ]
  },
  {
   "cell_type": "code",
   "execution_count": 10,
   "metadata": {
    "scrolled": false
   },
   "outputs": [],
   "source": [
    "def makeSensitivityMatrix(dxScale=1):\n",
    "    nbend = 5\n",
    "    totdof = 5 + 5 + 2 * nbend \n",
    "    # 5 for each of camera hexapod, m2 hexapod, plus 2 sets of bending modes\n",
    "    y0 = fitOPD(opd(newTelescope()).array)\n",
    "    dof = DOF(nbend=nbend)\n",
    "    A = np.zeros((22, totdof))\n",
    "    i = 0\n",
    "    for k,func in dof.methods.items():\n",
    "        dx = dof.stepSize[k] * dxScale\n",
    "        tel1 = newTelescope()\n",
    "        tel2 = newTelescope()\n",
    "        opd1 = opd(func(tel1, -dx))\n",
    "        opd2 = opd(func(tel2, dx))\n",
    "        z1 = fitOPD(opd1.array)\n",
    "        z2 = fitOPD(opd2.array)\n",
    "        A[:,i] = (z2 - z1) / (2 * dx)\n",
    "        i += 1\n",
    "    return A, y0"
   ]
  },
  {
   "cell_type": "code",
   "execution_count": 11,
   "metadata": {},
   "outputs": [],
   "source": [
    "A, y0 = makeSensitivityMatrix(dxScale=1)\n",
    "Ascaled, y0scaled = makeSensitivityMatrix(dxScale=0.1)"
   ]
  },
  {
   "cell_type": "code",
   "execution_count": 12,
   "metadata": {
    "scrolled": true
   },
   "outputs": [
    {
     "data": {
      "text/plain": [
       "masked_array(data = [  4.32320130e-08  -1.00279249e-09  -1.00279249e-09   3.58122318e-08\n",
       "   2.18358347e-11  -4.42541628e-23  -1.73130408e-09  -1.73130408e-09\n",
       "  -1.13402600e-12   1.13402600e-12   3.64807592e-08   2.15066959e-23\n",
       "  -2.78022572e-11  -7.56441074e-12   8.27180613e-24   9.74814299e-10\n",
       "   9.74814299e-10   1.10847500e-12  -1.10847500e-12   1.28237968e-12\n",
       "   1.28237968e-12  -1.30868039e-08],\n",
       "             mask = False,\n",
       "       fill_value = 1e+20)"
      ]
     },
     "execution_count": 12,
     "metadata": {},
     "output_type": "execute_result"
    }
   ],
   "source": [
    "y0"
   ]
  },
  {
   "cell_type": "markdown",
   "metadata": {},
   "source": [
    "We confirm the linearity of the sensitivity matrix in the step size range we are testing. When we reduce the scale of the step size by a factor of 10, the sensitivity matrix coeficients hardly change - this is good."
   ]
  },
  {
   "cell_type": "code",
   "execution_count": 13,
   "metadata": {},
   "outputs": [
    {
     "data": {
      "image/png": "[encoded data removed]",
      "text/plain": [
       "<matplotlib.figure.Figure at 0x11875a470>"
      ]
     },
     "metadata": {},
     "output_type": "display_data"
    }
   ],
   "source": [
    "fig, axes = plt.subplots(1,3, figsize=(9,2))\n",
    "\n",
    "for i, (title, matrix) in enumerate([('A', A), ('Ascaled', Ascaled), ('Difference', A-Ascaled)]):\n",
    "    ax = axes[i]\n",
    "    ax.set_title(title)\n",
    "    im = ax.imshow(matrix, origin='lower')\n",
    "    fig.colorbar(im, ax=ax)\n",
    "    ax.set_xlabel('DOF (m|rad)')\n",
    "    ax.set_ylabel('Zernike (m)')"
   ]
  },
  {
   "cell_type": "markdown",
   "metadata": {},
   "source": [
    "Furthermore, we compared a few specific sensitivity matrix elements to those from previous calculations and found them to agree to at least 3 significant figures. We end by plotting the log normalized absolute value of the sensitivity matrix. We see that there is a lot of degeneracy between the camera and M2 hexapod translations and rotations. We also see that M1M3 bending modes have a much broader zernike impact than M2 bending modes (columns 10-14 vs 15-19 in the plots below). M1M3 bending modes introduce perturbations to 2 surfaces in the optical path, as opposed to one, so this pattern makes sense."
   ]
  },
  {
   "cell_type": "code",
   "execution_count": 14,
   "metadata": {},
   "outputs": [
    {
     "data": {
      "text/plain": [
       "<matplotlib.colorbar.Colorbar at 0x10b63fe48>"
      ]
     },
     "execution_count": 14,
     "metadata": {},
     "output_type": "execute_result"
    },
    {
     "data": {
      "image/png": "[encoded data removed]",
      "text/plain": [
       "<matplotlib.figure.Figure at 0x1186cc908>"
      ]
     },
     "metadata": {},
     "output_type": "display_data"
    }
   ],
   "source": [
    "plt.title('Normalized Sensitivity Matrix')\n",
    "plt.imshow(np.log(np.abs(A)), origin='lower')\n",
    "plt.colorbar()"
   ]
  },
  {
   "cell_type": "code",
   "execution_count": 15,
   "metadata": {},
   "outputs": [],
   "source": [
    "np.save('../data/nominal_wavefront_20dof', np.array(y0))\n",
    "np.save('../data/sensitivity_matrix_20dof', A)"
   ]
  },
  {
   "cell_type": "code",
   "execution_count": 16,
   "metadata": {},
   "outputs": [
    {
     "name": "stdout",
     "output_type": "stream",
     "text": [
      "M1M3_bending_modes.npy       M2_grid_x.npy\r\n",
      "M1M3_grid_x.npy              M2_grid_y.npy\r\n",
      "M1M3_grid_y.npy              nominal_wavefront_20dof.npy\r\n",
      "M2_bending_modes.npy         sensitivity_matrix_20dof.npy\r\n"
     ]
    }
   ],
   "source": [
    "! ls ../data"
   ]
  }
 ],
 "metadata": {
  "kernelspec": {
   "display_name": "Python 3",
   "language": "python",
   "name": "python3"
  },
  "language_info": {
   "codemirror_mode": {
    "name": "ipython",
    "version": 3
   },
   "file_extension": ".py",
   "mimetype": "text/x-python",
   "name": "python",
   "nbconvert_exporter": "python",
   "pygments_lexer": "ipython3",
   "version": "3.5.4"
  }
 },
 "nbformat": 4,
 "nbformat_minor": 2
}
